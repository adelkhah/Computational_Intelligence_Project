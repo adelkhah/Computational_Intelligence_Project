{
 "cells": [
  {
   "cell_type": "markdown",
   "metadata": {},
   "source": [
    "# Libraries"
   ]
  },
  {
   "cell_type": "code",
   "execution_count": 23,
   "metadata": {},
   "outputs": [],
   "source": [
    "import csv\n",
    "import gensim\n",
    "import sys\n",
    "from sklearn.cluster import KMeans\n",
    "import numpy as np\n",
    "import matplotlib.pyplot as plt\n",
    "sys.path.append('../')\n",
    "import cluster"
   ]
  },
  {
   "cell_type": "markdown",
   "metadata": {},
   "source": [
    "First we load our model."
   ]
  },
  {
   "cell_type": "code",
   "execution_count": 3,
   "metadata": {},
   "outputs": [],
   "source": [
    "model_gnvn300 = gensim.models.KeyedVectors.load_word2vec_format('../model/GoogleNews-vectors-negative300.bin', binary=True)"
   ]
  },
  {
   "cell_type": "markdown",
   "metadata": {},
   "source": [
    "First of all, to make and collect words we traverse all comments and make our dictionary. For this approch, we define the function `create_dictionary(file)` which by getting the csv file, returns the dictionary."
   ]
  },
  {
   "cell_type": "markdown",
   "metadata": {},
   "source": []
  },
  {
   "cell_type": "code",
   "execution_count": 4,
   "metadata": {},
   "outputs": [],
   "source": [
    "def create_dictionary(file):\n",
    "    csvreader = csv.reader(file)\n",
    "\n",
    "    next(csvreader)\n",
    "\n",
    "    dict_all = dict()\n",
    "    # i = 0\n",
    "    for row in csvreader:\n",
    "        # if i == 4: break\n",
    "        for word in row[1].split():\n",
    "            my_word = ''\n",
    "            for c in word:\n",
    "                if (c >= 'a' and c <= 'z') or (c >= 'A' and c <='Z'):\n",
    "                    my_word += c\n",
    "            # print(my_word)\n",
    "            try:\n",
    "                dict_all[my_word] = model_gnvn300.get_vector(key=my_word)\n",
    "            except KeyError:\n",
    "                pass\n",
    "    \n",
    "    return dict_all\n",
    "    \n"
   ]
  },
  {
   "cell_type": "markdown",
   "metadata": {},
   "source": [
    "Now, let's find all words with their vectors with the help of the function `create_dictionary(file)`."
   ]
  },
  {
   "cell_type": "code",
   "execution_count": 5,
   "metadata": {},
   "outputs": [],
   "source": [
    "words_vecs = create_dictionary(open('../dataset/train.csv'))"
   ]
  },
  {
   "cell_type": "markdown",
   "metadata": {},
   "source": [
    "Now we want to find the best values for `K` and `C_target` by testing the clustring algorithm for a part of data in the `train.csv` file."
   ]
  },
  {
   "cell_type": "code",
   "execution_count": 39,
   "metadata": {},
   "outputs": [],
   "source": [
    "sse = []\n",
    "vecs = list(words_vecs.values())\n",
    "len_vecs = len(vecs)\n",
    "\n",
    "len_vecs_this = int(len(vecs) / 25)\n",
    "vecs_this = vecs[0:len_vecs_this]\n",
    "\n",
    "for k in range(40, 70):\n",
    "  kmeans = KMeans(n_clusters = k).fit(vecs_this)\n",
    "  centroids = kmeans.cluster_centers_\n",
    "  pred_clusters = kmeans.predict(vecs_this)\n",
    "  curr_sse = 0\n",
    "  \n",
    "  # calculate square of Euclidean distance of each point from its cluster center and add to current WSS\n",
    "  for i in range(len_vecs_this):\n",
    "    # print(i, len_vecs_this)\n",
    "    curr_center = centroids[pred_clusters[i]]\n",
    "    # curr_sse += (vecs_this[i] - curr_center[0]) ** 2 + (vecs_this[i] - curr_center[1]) ** 2\n",
    "    curr_sse += np.linalg.norm(vecs_this[i] - curr_center)\n",
    "    \n",
    "  sse.append(curr_sse)"
   ]
  },
  {
   "cell_type": "code",
   "execution_count": 41,
   "metadata": {},
   "outputs": [
    {
     "data": {
      "text/plain": [
       "[<matplotlib.lines.Line2D at 0x7f8385e7d5e0>]"
      ]
     },
     "execution_count": 41,
     "metadata": {},
     "output_type": "execute_result"
    },
    {
     "data": {
      "image/png": "[encoded data removed]",
      "text/plain": [
       "<Figure size 432x288 with 1 Axes>"
      ]
     },
     "metadata": {
      "needs_background": "light"
     },
     "output_type": "display_data"
    }
   ],
   "source": [
    "plt.plot([i for i in range(40, 70)], sse)"
   ]
  },
  {
   "cell_type": "code",
   "execution_count": 5,
   "metadata": {},
   "outputs": [
    {
     "name": "stdout",
     "output_type": "stream",
     "text": [
      "16828\n"
     ]
    },
    {
     "ename": "IndexError",
     "evalue": "list index out of range",
     "output_type": "error",
     "traceback": [
      "\u001b[0;31m---------------------------------------------------------------------------\u001b[0m",
      "\u001b[0;31mIndexError\u001b[0m                                Traceback (most recent call last)",
      "\u001b[1;32m/home/majiddrn/Academic/Machine Learning/Ferdowsi University Of Mashhad/Programming Assignments/NLP - Clustring/Answer/Computational_Intelligence_Project/text_classification/text_classification.ipynb Cell 11'\u001b[0m in \u001b[0;36m<cell line: 1>\u001b[0;34m()\u001b[0m\n\u001b[1;32m      <a href='vscode-notebook-cell:/home/majiddrn/Academic/Machine%20Learning/Ferdowsi%20University%20Of%20Mashhad/Programming%20Assignments/NLP%20-%20Clustring/Answer/Computational_Intelligence_Project/text_classification/text_classification.ipynb#ch0000010?line=8'>9</a>\u001b[0m my_cluster \u001b[39m=\u001b[39m cluster\u001b[39m.\u001b[39mOur_clsuter_af(N\u001b[39m=\u001b[39m\u001b[39mint\u001b[39m(len_data\u001b[39m/\u001b[39m\u001b[39m25\u001b[39m), K\u001b[39m=\u001b[39mk, C_target\u001b[39m=\u001b[39mc_target, G\u001b[39m=\u001b[39m\u001b[39m2\u001b[39m, data\u001b[39m=\u001b[39mwords_vdcs_values[\u001b[39m0\u001b[39m:\u001b[39mint\u001b[39m(len_data\u001b[39m/\u001b[39m\u001b[39m25\u001b[39m)])   \u001b[39m# we test on 1/4 of our training data\u001b[39;00m\n\u001b[1;32m     <a href='vscode-notebook-cell:/home/majiddrn/Academic/Machine%20Learning/Ferdowsi%20University%20Of%20Mashhad/Programming%20Assignments/NLP%20-%20Clustring/Answer/Computational_Intelligence_Project/text_classification/text_classification.ipynb#ch0000010?line=9'>10</a>\u001b[0m my_cluster\u001b[39m.\u001b[39mrun_algorithm()\n\u001b[0;32m---> <a href='vscode-notebook-cell:/home/majiddrn/Academic/Machine%20Learning/Ferdowsi%20University%20Of%20Mashhad/Programming%20Assignments/NLP%20-%20Clustring/Answer/Computational_Intelligence_Project/text_classification/text_classification.ipynb#ch0000010?line=10'>11</a>\u001b[0m ri, ri_str_info \u001b[39m=\u001b[39m my_cluster\u001b[39m.\u001b[39;49mrand_index()\n\u001b[1;32m     <a href='vscode-notebook-cell:/home/majiddrn/Academic/Machine%20Learning/Ferdowsi%20University%20Of%20Mashhad/Programming%20Assignments/NLP%20-%20Clustring/Answer/Computational_Intelligence_Project/text_classification/text_classification.ipynb#ch0000010?line=11'>12</a>\u001b[0m this_k_ct_ri \u001b[39m=\u001b[39m [k, c_target, ri]\n\u001b[1;32m     <a href='vscode-notebook-cell:/home/majiddrn/Academic/Machine%20Learning/Ferdowsi%20University%20Of%20Mashhad/Programming%20Assignments/NLP%20-%20Clustring/Answer/Computational_Intelligence_Project/text_classification/text_classification.ipynb#ch0000010?line=12'>13</a>\u001b[0m \u001b[39mif\u001b[39;00m ri \u001b[39m>\u001b[39m max_ri:\n",
      "File \u001b[0;32m~/Academic/Machine Learning/Ferdowsi University Of Mashhad/Programming Assignments/NLP - Clustring/Answer/Computational_Intelligence_Project/text_classification/../cluster.py:97\u001b[0m, in \u001b[0;36mOur_clsuter_af.rand_index\u001b[0;34m(self)\u001b[0m\n\u001b[1;32m     94\u001b[0m \u001b[39mfor\u001b[39;00m i \u001b[39min\u001b[39;00m \u001b[39mrange\u001b[39m(\u001b[39mself\u001b[39m\u001b[39m.\u001b[39mN):\n\u001b[1;32m     95\u001b[0m     \u001b[39m# print(i)\u001b[39;00m\n\u001b[1;32m     96\u001b[0m     \u001b[39mif\u001b[39;00m \u001b[39mself\u001b[39m\u001b[39m.\u001b[39mL[i] \u001b[39m!=\u001b[39m \u001b[39m-\u001b[39m\u001b[39m1\u001b[39m:\n\u001b[0;32m---> 97\u001b[0m         cnt[\u001b[39mself\u001b[39m\u001b[39m.\u001b[39mL[i]] \u001b[39m+\u001b[39m\u001b[39m=\u001b[39m \u001b[39m1\u001b[39m\n\u001b[1;32m     98\u001b[0m \u001b[39m# print(cnt)\u001b[39;00m\n\u001b[1;32m     99\u001b[0m total \u001b[39m=\u001b[39m \u001b[39mself\u001b[39m\u001b[39m.\u001b[39mC_2(\u001b[39mself\u001b[39m\u001b[39m.\u001b[39mN)\n",
      "\u001b[0;31mIndexError\u001b[0m: list index out of range"
     ]
    }
   ],
   "source": [
    "# for k in range(2, 6):\n",
    "#     max_ri = -1                                     # `max_ri` stores max `Rand Index`\n",
    "#     max_k_ct_ri:list                                # `max_k_ct_ri` stores `K` and `C_target` which have the maximum `Rand Index` reptresented by the vector [k, c_target, ri]\n",
    "#     all_k_ct_ri = []                                # `all_k_ct_ri` sotres all `k`, `C_target` and `Rand Index` represented by the vector [k, c_target, ri]\n",
    "#     for c_target in range(10, 16):\n",
    "#         len_data = len(words_vecs.values())\n",
    "#         words_vdcs_values = list(words_vecs.values())\n",
    "#         print(len_data)\n",
    "#         my_cluster = cluster.Our_clsuter_af(N=int(len_data/25), K=k, C_target=c_target, G=2, data=words_vdcs_values[0:int(len_data/25)])   # we test on 1/4 of our training data\n",
    "#         my_cluster.run_algorithm()\n",
    "#         ri, ri_str_info = my_cluster.rand_index()\n",
    "#         this_k_ct_ri = [k, c_target, ri]\n",
    "#         if ri > max_ri:\n",
    "#             max_ri = ri\n",
    "#             max_k_ct_ri = this_k_ct_ri"
   ]
  }
 ],
 "metadata": {
  "kernelspec": {
   "display_name": "Python 3.9.7 64-bit",
   "language": "python",
   "name": "python3"
  },
  "language_info": {
   "codemirror_mode": {
    "name": "ipython",
    "version": 3
   },
   "file_extension": ".py",
   "mimetype": "text/x-python",
   "name": "python",
   "nbconvert_exporter": "python",
   "pygments_lexer": "ipython3",
   "version": "3.9.7"
  },
  "orig_nbformat": 4,
  "vscode": {
   "interpreter": {
    "hash": "916dbcbb3f70747c44a77c7bcd40155683ae19c65e1c03b4aa3499c5328201f1"
   }
  }
 },
 "nbformat": 4,
 "nbformat_minor": 2
}
